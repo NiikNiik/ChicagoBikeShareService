{
 "cells": [
  {
   "cell_type": "code",
   "execution_count": 19,
   "id": "a5a2cef5-bba5-4af8-bc3f-aa0f4b48de14",
   "metadata": {},
   "outputs": [],
   "source": [
    "import pandas as pd\n",
    "import matplotlib.pyplot as plt\n",
    "import seaborn as sns\n",
    "import numpy as np"
   ]
  },
  {
   "cell_type": "code",
   "execution_count": 4,
   "id": "44d7bf30-aae7-4899-a6d5-ead0cc1f65a4",
   "metadata": {},
   "outputs": [],
   "source": [
    "from sklearn.linear_model import LinearRegression"
   ]
  },
  {
   "cell_type": "code",
   "execution_count": 5,
   "id": "befee896-aa8d-485d-91eb-60438642a654",
   "metadata": {},
   "outputs": [],
   "source": [
    "data = pd.read_csv(r\"C:\\Users\\NAjani\\Jupyter/ChicagoDivvyBikeShare/202111-divvy-tripdata.csv\") "
   ]
  },
  {
   "cell_type": "code",
   "execution_count": 6,
   "id": "f3f73404-1ef5-4494-a720-ecb0a3583c49",
   "metadata": {},
   "outputs": [
    {
     "data": {
      "text/plain": [
       "Index(['ride_id', 'rideable_type', 'started_at', 'ended_at',\n",
       "       'start_station_name', 'start_station_id', 'end_station_name',\n",
       "       'end_station_id', 'start_lat', 'start_lng', 'end_lat', 'end_lng',\n",
       "       'member_casual'],\n",
       "      dtype='object')"
      ]
     },
     "execution_count": 6,
     "metadata": {},
     "output_type": "execute_result"
    }
   ],
   "source": [
    "data.columns"
   ]
  },
  {
   "cell_type": "code",
   "execution_count": 8,
   "id": "e79e3eee-3555-45b4-8311-0fb275e828c4",
   "metadata": {},
   "outputs": [
    {
     "name": "stdout",
     "output_type": "stream",
     "text": [
      "start_station_name\n",
      "Ellis Ave & 60th St             3095\n",
      "University Ave & 57th St        2833\n",
      "Kingsbury St & Kinzie St        2681\n",
      "Clark St & Elm St               2423\n",
      "Streeter Dr & Grand Ave         2165\n",
      "                                ... \n",
      "Richmond St & 59th St              1\n",
      "Kildare Ave & 26th St              1\n",
      "Sacramento Blvd & Fulton Ave       1\n",
      "Sacramento Blvd & Polk St          1\n",
      "Francisco Ave & 47th St            1\n",
      "Name: count, Length: 815, dtype: int64\n"
     ]
    }
   ],
   "source": [
    "\n",
    "start_station_counts = data['start_station_name'].value_counts()\n",
    "print(start_station_counts)"
   ]
  },
  {
   "cell_type": "code",
   "execution_count": 10,
   "id": "ba81a278-1645-48dd-a348-6cf2130ad73d",
   "metadata": {},
   "outputs": [
    {
     "name": "stdout",
     "output_type": "stream",
     "text": [
      "Most Popular Start Station: Ellis Ave & 60th St with 3095 trips\n",
      "Least Popular Start Station: Western Ave & Lake St with 1 trips\n"
     ]
    }
   ],
   "source": [
    "# Identify the most and least popular start stations\n",
    "most_popular_start_station = start_station_counts.idxmax()\n",
    "most_popular_start_station_count = start_station_counts.max()\n",
    "\n",
    "least_popular_start_station = start_station_counts.idxmin()\n",
    "least_popular_start_station_count = start_station_counts.min()\n",
    "\n",
    "print(\"Most Popular Start Station:\", most_popular_start_station, \"with\", most_popular_start_station_count, \"trips\")\n",
    "print(\"Least Popular Start Station:\", least_popular_start_station, \"with\", least_popular_start_station_count, \"trips\")"
   ]
  },
  {
   "cell_type": "code",
   "execution_count": 11,
   "id": "d4d550c7-882c-42db-aa50-c1ec4ab96068",
   "metadata": {},
   "outputs": [
    {
     "name": "stdout",
     "output_type": "stream",
     "text": [
      "end_station_name\n",
      "Ellis Ave & 60th St           3002\n",
      "University Ave & 57th St      2966\n",
      "Kingsbury St & Kinzie St      2545\n",
      "Clark St & Elm St             2391\n",
      "Streeter Dr & Grand Ave       2350\n",
      "                              ... \n",
      "Panama Ave & Grace St            1\n",
      "S Aberdeen St & W 106th St       1\n",
      "Doty Ave & 111th St              1\n",
      "W 103rd St & S Avers Ave         1\n",
      "Francisco Ave & 47th St          1\n",
      "Name: count, Length: 805, dtype: int64\n"
     ]
    }
   ],
   "source": [
    "end_station_counts = data['end_station_name'].value_counts()\n",
    "print(end_station_counts)"
   ]
  },
  {
   "cell_type": "code",
   "execution_count": 12,
   "id": "9e4c6527-c866-4d30-9fca-caf0e5408d52",
   "metadata": {},
   "outputs": [
    {
     "name": "stdout",
     "output_type": "stream",
     "text": [
      "Most Popular End Station: Ellis Ave & 60th St with 3002 trips\n",
      "Least Popular End Station: Roscoe & Harlem with 1 trips\n"
     ]
    }
   ],
   "source": [
    "# Identify the most and least popular start stations\n",
    "most_popular_end_station = end_station_counts.idxmax()\n",
    "most_popular_end_station_count = end_station_counts.max()\n",
    "\n",
    "least_popular_end_station = end_station_counts.idxmin()\n",
    "least_popular_end_station_count = end_station_counts.min()\n",
    "\n",
    "print(\"Most Popular End Station:\", most_popular_end_station, \"with\", most_popular_end_station_count, \"trips\")\n",
    "print(\"Least Popular End Station:\", least_popular_end_station, \"with\", least_popular_end_station_count, \"trips\")"
   ]
  },
  {
   "cell_type": "code",
   "execution_count": 13,
   "id": "e8f95c48-4670-4fb8-98e4-9b6bb11d6134",
   "metadata": {},
   "outputs": [],
   "source": [
    "def haversine(lat1, lon1, lat2, lon2):\n",
    "    R = 6371  # Earth radius in kilometers\n",
    "    lat1, lon1, lat2, lon2 = map(np.radians, [lat1, lon1, lat2, lon2])\n",
    "    dlat = lat2 - lat1\n",
    "    dlon = lon2 - lon1\n",
    "    a = np.sin(dlat / 2)**2 + np.cos(lat1) * np.cos(lat2) * np.sin(dlon / 2)**2\n",
    "    c = 2 * np.arcsin(np.sqrt(a))\n",
    "    return R * c"
   ]
  },
  {
   "cell_type": "code",
   "execution_count": 20,
   "id": "bdd5b386-6761-4b86-8887-8aa8d940628f",
   "metadata": {},
   "outputs": [],
   "source": [
    "data['distance_km'] = haversine(data['start_lat'], data['start_lng'], data['end_lat'], data['end_lng'])"
   ]
  },
  {
   "cell_type": "code",
   "execution_count": 22,
   "id": "3b593b13-fa24-4b5b-86d4-ca65e400dd3b",
   "metadata": {},
   "outputs": [
    {
     "name": "stdout",
     "output_type": "stream",
     "text": [
      "Average Distance Traveled: 1.9367633385063525 km\n"
     ]
    }
   ],
   "source": [
    "average_distance_km = data['distance_km'].mean()\n",
    "\n",
    "print(\"Average Distance Traveled:\", average_distance_km, \"km\")"
   ]
  },
  {
   "cell_type": "code",
   "execution_count": 24,
   "id": "92cce131-2ee4-4338-865c-7269f7dda93c",
   "metadata": {},
   "outputs": [
    {
     "name": "stdout",
     "output_type": "stream",
     "text": [
      "Average Distance Traveled by Member Type:\n",
      "member_casual\n",
      "casual    2.097775\n",
      "member    1.868804\n",
      "Name: distance_km, dtype: float64\n"
     ]
    }
   ],
   "source": [
    "# Group by member type and calculate the average distance\n",
    "average_distance_by_member_type = data.groupby('member_casual')['distance_km'].mean()\n",
    "\n",
    "print(\"Average Distance Traveled by Member Type:\")\n",
    "print(average_distance_by_member_type)"
   ]
  },
  {
   "cell_type": "code",
   "execution_count": 26,
   "id": "0c72f23b-1677-4500-a4a6-7336c8ef39c9",
   "metadata": {},
   "outputs": [
    {
     "name": "stdout",
     "output_type": "stream",
     "text": [
      "Average Distance Traveled by Bike Type:\n",
      "rideable_type\n",
      "classic_bike     1.764115\n",
      "docked_bike      2.063917\n",
      "electric_bike    2.065886\n",
      "Name: distance_km, dtype: float64\n"
     ]
    }
   ],
   "source": [
    "# Group by member type and calculate the average distance\n",
    "average_distance_by_rideable_type = data.groupby('rideable_type')['distance_km'].mean()\n",
    "\n",
    "print(\"Average Distance Traveled by Bike Type:\")\n",
    "print(average_distance_by_rideable_type)"
   ]
  },
  {
   "cell_type": "code",
   "execution_count": 27,
   "id": "b72799ac-3dd4-4258-986b-3ca3fe777f63",
   "metadata": {},
   "outputs": [
    {
     "name": "stdout",
     "output_type": "stream",
     "text": [
      "Most Common Route: Ellis Ave & 60th St to University Ave & 57th St\n"
     ]
    }
   ],
   "source": [
    "# Group and count routes\n",
    "route_counts = data.groupby(['start_station_name', 'end_station_name']).size().reset_index(name='count')\n",
    "\n",
    "# Find the most common route\n",
    "most_common_route = route_counts.loc[route_counts['count'].idxmax()]\n",
    "\n",
    "print(\"Most Common Route:\", most_common_route['start_station_name'], \"to\", most_common_route['end_station_name'])"
   ]
  }
 ],
 "metadata": {
  "kernelspec": {
   "display_name": "Python 3 (ipykernel)",
   "language": "python",
   "name": "python3"
  },
  "language_info": {
   "codemirror_mode": {
    "name": "ipython",
    "version": 3
   },
   "file_extension": ".py",
   "mimetype": "text/x-python",
   "name": "python",
   "nbconvert_exporter": "python",
   "pygments_lexer": "ipython3",
   "version": "3.12.2"
  }
 },
 "nbformat": 4,
 "nbformat_minor": 5
}
